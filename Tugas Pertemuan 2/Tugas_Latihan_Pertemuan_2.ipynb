{
  "nbformat": 4,
  "nbformat_minor": 0,
  "metadata": {
    "colab": {
      "provenance": []
    },
    "kernelspec": {
      "name": "python3",
      "display_name": "Python 3"
    },
    "language_info": {
      "name": "python"
    }
  },
  "cells": [
    {
      "cell_type": "markdown",
      "source": [
        "##NAMA: FIKRI ARMIA FAHMI\n",
        "##NIM: 2023071018"
      ],
      "metadata": {
        "id": "Llnp9v4rFX6i"
      }
    },
    {
      "cell_type": "code",
      "source": [
        "import numpy as np\n",
        "\n",
        "# membuat array\n",
        "nilai_siswa = np.array([85, 55, 40, 90])\n",
        "\n",
        "# mengakses data pada array\n",
        "print(nilai_siswa[3])"
      ],
      "metadata": {
        "id": "LCOtqtk7uuHY",
        "colab": {
          "base_uri": "https://localhost:8080/"
        },
        "outputId": "7b2d91bd-5047-42ad-fb58-08d16063a0ff"
      },
      "execution_count": 1,
      "outputs": [
        {
          "output_type": "stream",
          "name": "stdout",
          "text": [
            "90\n"
          ]
        }
      ]
    },
    {
      "cell_type": "code",
      "source": [
        "import numpy as np\n",
        "print(np.__version__)"
      ],
      "metadata": {
        "colab": {
          "base_uri": "https://localhost:8080/"
        },
        "id": "rslZNvQmxVUx",
        "outputId": "d1fe1e0d-6a5d-480c-fd0c-787423cb9e5c"
      },
      "execution_count": 3,
      "outputs": [
        {
          "output_type": "stream",
          "name": "stdout",
          "text": [
            "1.26.4\n"
          ]
        }
      ]
    },
    {
      "cell_type": "markdown",
      "source": [
        "#Big O Notation\n",
        "##Constant Time (O(1)) complexity\n",
        "if an algorithm takes the same amount of time to run, independent of the size of the input data, it is said to run in constant time. It is represented by O(1)."
      ],
      "metadata": {
        "id": "FxSJFC9BxxBK"
      }
    },
    {
      "cell_type": "code",
      "source": [
        "print(\"Hello, World!\")\n",
        "print(\"Nama saya Fikri Armia Fahmi\")\n",
        "print(\"NIM saya 2023071018\")"
      ],
      "metadata": {
        "colab": {
          "base_uri": "https://localhost:8080/"
        },
        "id": "IOMxXSVyzNXd",
        "outputId": "9002549f-1bf7-4a5a-8001-34e2b747a2e1"
      },
      "execution_count": 4,
      "outputs": [
        {
          "output_type": "stream",
          "name": "stdout",
          "text": [
            "Hello, World!\n",
            "Nama saya Fikri Armia Fahmi\n",
            "NIM saya 2023071018\n"
          ]
        }
      ]
    },
    {
      "cell_type": "code",
      "source": [
        "if 5>2:\n",
        "  print(\"Five is greater than two!\")"
      ],
      "metadata": {
        "colab": {
          "base_uri": "https://localhost:8080/"
        },
        "id": "2odtXKlb0DIi",
        "outputId": "4804b6a6-ed57-47ed-b38e-6ac084c12837"
      },
      "execution_count": 5,
      "outputs": [
        {
          "output_type": "stream",
          "name": "stdout",
          "text": [
            "Five is greater than two!\n"
          ]
        }
      ]
    },
    {
      "cell_type": "code",
      "source": [
        "x = 5\n",
        "y = \"John\"\n",
        "print(x)\n",
        "print(y)\n"
      ],
      "metadata": {
        "colab": {
          "base_uri": "https://localhost:8080/"
        },
        "id": "DgO_5cIJ0Ldn",
        "outputId": "1ab7a3c2-b31b-4baf-bf79-51b31daaf7fa"
      },
      "execution_count": 6,
      "outputs": [
        {
          "output_type": "stream",
          "name": "stdout",
          "text": [
            "5\n",
            "John\n"
          ]
        }
      ]
    },
    {
      "cell_type": "code",
      "source": [
        "x = 4\n",
        "x = \"Sally\"\n",
        "print(x)"
      ],
      "metadata": {
        "colab": {
          "base_uri": "https://localhost:8080/"
        },
        "id": "AElGobzr0WcS",
        "outputId": "33c38dc9-cb3d-490c-d8ab-5f563ecd7c1e"
      },
      "execution_count": 8,
      "outputs": [
        {
          "output_type": "stream",
          "name": "stdout",
          "text": [
            "Sally\n"
          ]
        }
      ]
    },
    {
      "cell_type": "code",
      "source": [
        "#Jika getFirst diperoleh dari myList[0], bagaimana memperoleh getSecond?\n",
        "def getSecond(mylist):\n",
        "  return mylist[1]\n",
        "\n",
        "print(getSecond([1,2,3]))\n",
        "print(getSecond([5,6,7,8,9]))"
      ],
      "metadata": {
        "colab": {
          "base_uri": "https://localhost:8080/"
        },
        "id": "QsO6XhGp1IU8",
        "outputId": "cebe7423-5736-41d3-f0a6-bfa83ce019e3"
      },
      "execution_count": 12,
      "outputs": [
        {
          "output_type": "stream",
          "name": "stdout",
          "text": [
            "2\n",
            "6\n"
          ]
        }
      ]
    },
    {
      "cell_type": "code",
      "source": [
        "#Jika getFirst diperoleh dari myList[0], bagaimana memperoleh getLast (isi terakhir)?\n",
        "def getLast(mylist):\n",
        "  return mylist[-1]\n",
        "\n",
        "print(getLast([1,2,3]))\n",
        "print(getLast([5,6,7,8,9]))"
      ],
      "metadata": {
        "colab": {
          "base_uri": "https://localhost:8080/"
        },
        "id": "rZdJLXn82lKA",
        "outputId": "6459c82e-63da-4c37-b59d-27eae71555bd"
      },
      "execution_count": 16,
      "outputs": [
        {
          "output_type": "stream",
          "name": "stdout",
          "text": [
            "3\n",
            "9\n"
          ]
        }
      ]
    },
    {
      "cell_type": "code",
      "source": [
        "#getSum adalah perintah untuk mendapatkan hasil jumlah seluruh angka.\n",
        "#Bagaimana jika kita membutuhkan fungsi getKali untuk mengalikan seluruh angka?\n",
        "def getKali(mylist):\n",
        "  kali = 1\n",
        "  for item in mylist:\n",
        "    kali*=item\n",
        "  return kali\n",
        "\n",
        "print(getKali([1,2,3]))\n"
      ],
      "metadata": {
        "colab": {
          "base_uri": "https://localhost:8080/"
        },
        "id": "7sgdOUXk3Erq",
        "outputId": "e2167fc0-eaa7-41c7-d194-5945d06dd8e1"
      },
      "execution_count": 19,
      "outputs": [
        {
          "output_type": "stream",
          "name": "stdout",
          "text": [
            "6\n"
          ]
        }
      ]
    },
    {
      "cell_type": "code",
      "source": [
        "#getSum adalah perintah untuk mendapatkan hasil jumlah seluruh angka.\n",
        "#Bagaimana jika kita membutuhkan fungsi getBagi untuk membagikan seluruh angka?\n",
        "\n",
        "def getBagi(mylist):\n",
        "  bagi = mylist[0]\n",
        "  for item in mylist[1:]:\n",
        "    bagi/=item\n",
        "  return bagi\n",
        "\n",
        "print(getBagi([8,2,1]))"
      ],
      "metadata": {
        "colab": {
          "base_uri": "https://localhost:8080/"
        },
        "id": "-aQbGmT35NDk",
        "outputId": "97f69696-7de5-4c74-a4f1-cf7f01afb51d"
      },
      "execution_count": 24,
      "outputs": [
        {
          "output_type": "stream",
          "name": "stdout",
          "text": [
            "4.0\n"
          ]
        }
      ]
    },
    {
      "cell_type": "code",
      "source": [
        "#Buatlah suatu fungsi untuk membagi 2 himpunan angka, jika getSum untuk menjumlahkan angka!\n",
        "def getBagiHimpunan(list1, list2):\n",
        "    hasil_bagi = []\n",
        "    for a, b in zip(list1, list2):\n",
        "        if b == 0:\n",
        "            print(\"Tidak bisa membagi dengan angka 0\")\n",
        "            break\n",
        "        hasil_bagi.append(a / b)\n",
        "    return hasil_bagi\n",
        "\n",
        "\n",
        "list1 = [4, 12, 6]\n",
        "list2 = [2, 3, 2]\n",
        "print(getBagiHimpunan(list1, list2))"
      ],
      "metadata": {
        "colab": {
          "base_uri": "https://localhost:8080/"
        },
        "id": "I5RBGNydCcP6",
        "outputId": "67dc4d07-c1e5-43b2-883c-d6640eadb76d"
      },
      "execution_count": 25,
      "outputs": [
        {
          "output_type": "stream",
          "name": "stdout",
          "text": [
            "[2.0, 4.0, 3.0]\n"
          ]
        }
      ]
    },
    {
      "cell_type": "code",
      "source": [
        "#Buatlah suatu fungsi untuk : mengurangi 2 himpunan angka, jika getSum untuk menjumlahkan angka!\n",
        "def getKurangiHimpunan(list1, list2):\n",
        "    hasil_kurangi = []\n",
        "    for a, b in zip(list1, list2):\n",
        "        hasil_kurangi.append(a - b)\n",
        "    return hasil_kurangi\n",
        "\n",
        "list1 = [4, 12, 6]\n",
        "list2 = [2, 3, 2]\n",
        "print(getKurangiHimpunan(list1, list2))\n"
      ],
      "metadata": {
        "colab": {
          "base_uri": "https://localhost:8080/"
        },
        "id": "2nGDgVD_ErH8",
        "outputId": "f9821864-07dc-461a-fbbe-c5cbf5ba7663"
      },
      "execution_count": 27,
      "outputs": [
        {
          "output_type": "stream",
          "name": "stdout",
          "text": [
            "[2, 9, 4]\n"
          ]
        }
      ]
    }
  ]
}